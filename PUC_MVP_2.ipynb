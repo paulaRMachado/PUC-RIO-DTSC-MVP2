{
  "nbformat": 4,
  "nbformat_minor": 0,
  "metadata": {
    "colab": {
      "provenance": [],
      "authorship_tag": "ABX9TyOXUQDYRQTPWfVbIY1zJgPp",
      "include_colab_link": true
    },
    "kernelspec": {
      "name": "python3",
      "display_name": "Python 3"
    },
    "language_info": {
      "name": "python"
    }
  },
  "cells": [
    {
      "cell_type": "markdown",
      "metadata": {
        "id": "view-in-github",
        "colab_type": "text"
      },
      "source": [
        "<a href=\"https://colab.research.google.com/github/paulaRMachado/PUC-RIO-DTSC-MVP2/blob/main/PUC_MVP_2.ipynb\" target=\"_parent\"><img src=\"https://colab.research.google.com/assets/colab-badge.svg\" alt=\"Open In Colab\"/></a>"
      ]
    },
    {
      "cell_type": "markdown",
      "source": [
        "**MVP Análise de Dados e Boas Práticas**\n",
        "\n",
        "**Nome**: Paula R A Machado\n",
        "\n",
        "**Matrícula**: 405205000163\n",
        "\n",
        "**Dataset**: Indian Liver Patient Records"
      ],
      "metadata": {
        "id": "7Ih-J97YyYnR"
      }
    },
    {
      "cell_type": "markdown",
      "source": [
        "# Descrição do Problema\n",
        "\n",
        "O conjunto de dados *Indian Liver Patient Records* contém informações laboratoriais e clínicas de pacientes, com o objetivo principal de prever a presença ou ausência de doenças hepáticas. Para isso, o dataset reúne medidas bioquímicas como níveis enzimáticos (ALT, AST), bilirrubina, proteínas totais, albumina, além de dados demográficos como idade e sexo. A proposta deste trabalho é investigar essas características e construir um modelo capaz de identificar precocemente pacientes que necessitam de avaliação médica especializada."
      ],
      "metadata": {
        "id": "YW_JS-EEBFaR"
      }
    },
    {
      "cell_type": "markdown",
      "source": [
        "## Hipóteses do Problema\n",
        "\n",
        "As hipóteses que tracei são as seguintes:\n",
        "\n",
        "* Pacientes com níveis elevados de bilirrubina e enzimas hepáticas (AST, ALT) têm maior probabilidade de apresentar doença hepática.\n",
        "\n",
        "* Existe relação entre o nível de albumina e a presença da doença hepática?\n",
        "\n",
        "* Homens são mais frequentemente diagnosticados com doença hepática do que mulheres?\n",
        "\n",
        "* Pacientes mais velhos tendem a apresentar um risco maior para o desenvolvimento de doença hepática?\n",
        "\n",
        "* Medidas como a proporção entre albumina e globulina são bons indicadores para diferenciar pacientes saudáveis de doentes?"
      ],
      "metadata": {
        "id": "Gm6mOo5PBYwr"
      }
    },
    {
      "cell_type": "markdown",
      "source": [
        "## Tipo de Problema\n",
        "\n",
        "Este é um problema de **classificação supervisionada**. Dado um conjunto de características (comprimento e largura da sépala, comprimento e largura da pétala), o objetivo é prever a qual das três classes (espécies de Íris) uma determinada flor pertence."
      ],
      "metadata": {
        "id": "x1zNNZt6BfdF"
      }
    },
    {
      "cell_type": "markdown",
      "source": [
        "## Seleção de Dados\n",
        "\n",
        "O dataset *Indian Liver Patient Records* foi obtido do repositório Kaggle e contém informações laboratoriais e demográficas de pacientes com e sem doenças hepáticas. Por se tratar de um dataset real e não-curado, foi necessário carregar o arquivo CSV bruto e inspecionar a estrutura para verificar a qualidade dos dados antes da análise. Nessa etapa inicial, selecionamos todos os atributos disponíveis para uso, pois eles são potencialmente relevantes para o problema e não há necessidade de filtragem prévia de colunas."
      ],
      "metadata": {
        "id": "N91bTLbiBxrm"
      }
    },
    {
      "cell_type": "markdown",
      "source": [
        "## Atributos do Dataset\n",
        "\n",
        "O dataset Indian Liver Patient Records contém 583 registros, sendo 416 de pacientes COM doença hepática e 167 de pacientes SEM doença hepática. Há 11 atributos:\n",
        "\n",
        "- **Age**: Idade do paciente\n",
        "- **Gender**: Sexo do Paciente\n",
        "- **Total Bilirubin**: Bilirrubina Total (mg/dL)\n",
        "- **Direct Bilirubin**: Bilirrubina Conjugada (mg/dL)\n",
        "- **Alkaline Phosphotase**: Fosfatase Alcalina (UI/L)\n",
        "- **Alamine Aminotransferase**: Alanina Aminotransferase (UI/L)\n",
        "- **Aspartate Aminotransferase**: Aspartato Aminotransferase (UI/L)\n",
        "- **Total Protiens**: Proteínas Totais (g/dL)\n",
        "- **Albumin**: Albumina (g/dL)\n",
        "- **Albumin and Globulin Ratio**: Razão Albumina/Globulina\n",
        "- **Label**: Classificação (com doença hepática ou saudável)"
      ],
      "metadata": {
        "id": "FC6QJHhWBnzH"
      }
    },
    {
      "cell_type": "code",
      "execution_count": 1,
      "metadata": {
        "id": "YSvk8WI-xuQ0"
      },
      "outputs": [],
      "source": [
        "import pandas as pd"
      ]
    },
    {
      "cell_type": "code",
      "source": [],
      "metadata": {
        "id": "oG7dWpbF02CZ"
      },
      "execution_count": null,
      "outputs": []
    },
    {
      "cell_type": "markdown",
      "source": [
        "NÂO ESQUECER DE SEPARAR TRAIN E TEST"
      ],
      "metadata": {
        "id": "WL_69PU5NdZE"
      }
    },
    {
      "cell_type": "markdown",
      "source": [
        "Requisitos e composição da nota:\n",
        "* (1,0 pt) Execução sem erros:o notebook deve poder ser executado pelo professor do início ao fim sem erros no Google Colab.\n",
        "* (2,0 pts) Documentação consistente:utilize blocos de texto que expliquem textualmente cada etapa e cada decisão do seu código, contando uma história completa e compreensível, do início ao fim.\n",
        "* (1,0 pt) Código limpo:seu código deve estar legível e organizado. Devem ser utilizadas as boas práticas de codificação vistas nas disciplinas Programação orientada a objetose Engenharia de software para ciência de dados, mas não é necessário que você crie classes no seu código.\n",
        "* (2,0 pts) Análise de dados:após cada gráfico, você deverá escrever um parágrafo resumindo os principais achados, analisando os resultados e levantando eventuais pontos de atenção.\n",
        "* (2,0 pts) Checklist:você deverá responder às perguntas (aplicáveis ao seu dataset) da checklist fornecida, utilizando-a como guia para o desenvolvimento do trabalho.\n",
        "* (2,0 pts) Capricho e qualidade do trabalho como um todo."
      ],
      "metadata": {
        "id": "wcKXhUDy5pYK"
      }
    },
    {
      "cell_type": "markdown",
      "source": [
        "**Análise de Dados**\n",
        "Objetivo: entender a informação disponível.\n",
        "\n",
        "Estatísticas descritivas:\n",
        "\n",
        "Quantos atributos e instâncias existem?\n",
        "Quais são os tipos de dados dos atributos?\n",
        "Verifique as primeiras linhas do dataset. Algo chama a atenção?\n",
        "Há valores faltantes, discrepantes ou inconsistentes?\n",
        "Faça um resumo estatístico dos atributos com valor numérico (mínimo, máximo, mediana, moda, média, desvio-padrão e número de valores ausentes). O que você percebe?\n",
        "Visualizações:\n",
        "\n",
        "Verifique a distribuição de cada atributo. O que você percebe? Dica: esta etapa pode dar ideias sobre a necessidade de transformações na etapa de preparação de dados (por exemplo, converter atributos de um tipo para outro, realizar operações de discretização, normalização, padronização, etc.).\n",
        "Se for um problema de classificação, verifique a distribuição de frequência das classes. O que você percebe? Dica: esta etapa pode indicar a possível necessidade futura de balanceamento de classes.\n",
        "Analise os atributos individualmente ou de forma combinada, usando os gráficos mais apropriados."
      ],
      "metadata": {
        "id": "i-LX1ZHb08a4"
      }
    },
    {
      "cell_type": "markdown",
      "source": [
        "Checklist sugerida:\n",
        "Definição do problema\n",
        "Objetivo: entender e descrever claramente o problema que está sendo resolvido.\n",
        "\n",
        "\n",
        "1. Qual é a descrição do problema?\n",
        "2. Este é um problema de aprendizado supervisionado ou não supervisionado?\n",
        "3. Que premissas ou hipóteses você tem sobre o problema?\n",
        "4. Que restrições ou condições foram impostas para selecionar os dados?\n",
        "5. Defina cada um dos atributos do dataset. Dicionário de dados!"
      ],
      "metadata": {
        "id": "bKHEs1WC4tjJ"
      }
    }
  ]
}